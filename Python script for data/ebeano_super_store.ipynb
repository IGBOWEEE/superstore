{
  "nbformat": 4,
  "nbformat_minor": 0,
  "metadata": {
    "colab": {
      "provenance": []
    },
    "kernelspec": {
      "name": "python3",
      "display_name": "Python 3"
    },
    "language_info": {
      "name": "python"
    }
  },
  "cells": [
    {
      "cell_type": "markdown",
      "source": [
        " **Data Simulation**\n",
        "\n",
        "\n",
        "\n",
        "\n",
        "\n",
        "\n",
        "\n",
        "\n",
        "\n",
        "\n",
        "\n",
        "\n"
      ],
      "metadata": {
        "id": "f4-UfjXuvqya"
      }
    },
    {
      "cell_type": "markdown",
      "source": [
        "Getting data to simulate production environment is always challenging. From the incomplete data online and inaccurate data from many other sources, its a nightmare most times to get the necessary data to simulate the production environment.\n",
        "\n",
        "this scripts uses different python packages, functions and modules to create a simulated supermarket data from Prince Ebeano superstores.\n",
        "\n",
        "We stick closely to reality making sure the store's diverse physical branches are represented here but other information are purely fictitious and only for demonstration purposes\n"
      ],
      "metadata": {
        "id": "XQj-sxp1wLdV"
      }
    },
    {
      "cell_type": "markdown",
      "source": [
        "#### **Pip Install Faker**\n",
        "\n"
      ],
      "metadata": {
        "id": "rQlXYVQmzgTO"
      }
    },
    {
      "cell_type": "code",
      "source": [
        "pip install Faker\n"
      ],
      "metadata": {
        "colab": {
          "base_uri": "https://localhost:8080/"
        },
        "id": "IauP0qEGYzy2",
        "outputId": "d2ca201d-edcc-4ee4-8e48-b7bc010e02a3"
      },
      "execution_count": null,
      "outputs": [
        {
          "output_type": "stream",
          "name": "stdout",
          "text": [
            "Collecting Faker\n",
            "  Downloading Faker-35.2.0-py3-none-any.whl.metadata (15 kB)\n",
            "Requirement already satisfied: python-dateutil>=2.4 in /usr/local/lib/python3.11/dist-packages (from Faker) (2.8.2)\n",
            "Requirement already satisfied: typing-extensions in /usr/local/lib/python3.11/dist-packages (from Faker) (4.12.2)\n",
            "Requirement already satisfied: six>=1.5 in /usr/local/lib/python3.11/dist-packages (from python-dateutil>=2.4->Faker) (1.17.0)\n",
            "Downloading Faker-35.2.0-py3-none-any.whl (1.9 MB)\n",
            "\u001b[2K   \u001b[90m━━━━━━━━━━━━━━━━━━━━━━━━━━━━━━━━━━━━━━━━\u001b[0m \u001b[32m1.9/1.9 MB\u001b[0m \u001b[31m11.9 MB/s\u001b[0m eta \u001b[36m0:00:00\u001b[0m\n",
            "\u001b[?25hInstalling collected packages: Faker\n",
            "Successfully installed Faker-35.2.0\n"
          ]
        }
      ]
    },
    {
      "cell_type": "markdown",
      "source": [
        "###### **Import relevant modules**\n",
        "\n",
        "\n"
      ],
      "metadata": {
        "id": "4wXaBRw-0Ue7"
      }
    },
    {
      "cell_type": "code",
      "source": [
        "import csv\n",
        "import random\n",
        "from datetime import datetime, timedelta\n",
        "from faker import Faker\n",
        "\n",
        "# Initialize Faker and set seed for reproducibility\n",
        "fake = Faker()\n",
        "random.seed(42)\n",
        "\n",
        "\n"
      ],
      "metadata": {
        "id": "GWKA_lpI0IX1"
      },
      "execution_count": null,
      "outputs": []
    },
    {
      "cell_type": "markdown",
      "source": [
        "#### **Branch Data**"
      ],
      "metadata": {
        "id": "BI5ErB--13Vn"
      }
    },
    {
      "cell_type": "markdown",
      "source": [
        "Here, data for the various branches are simulated with actual branch names and simulated data for the rest of the column"
      ],
      "metadata": {
        "id": "SfYqfwo-3EQ_"
      }
    },
    {
      "cell_type": "code",
      "source": [
        "#----------------------------\n",
        "# 1. Branch Data (with enhancements)\n",
        "# ----------------------------\n",
        "# For geolocation, we generate random latitudes and longitudes.\n",
        "# Operating hours: we'll simulate opening and closing times.\n",
        "def random_operating_hours():\n",
        "    open_hour = random.randint(7, 10)\n",
        "    close_hour = random.randint(20, 23)\n",
        "    return f\"{open_hour:02d}:00 - {close_hour:02d}:00\"\n",
        "\n",
        "\n",
        "branches = [\n",
        "    {\n",
        "        \"branch_id\": \"BR001\",\n",
        "        \"branch_name\": \"Lekki Phase I\",\n",
        "        \"address\": \"Plot 9, Northern Business District, Admiralty Road, Lekki Phase I\",\n",
        "        \"operating_hours\": random_operating_hours(),\n",
        "        \"manager_name\": fake.name(),\n",
        "        \"manager_email\": fake.email(),\n",
        "        \"manager_phone\": fake.phone_number(),\n",
        "        \"latitude\": round(random.uniform(6.40, 6.60), 6),\n",
        "        \"longitude\": round(random.uniform(3.20, 3.40), 6),\n",
        "        \"establishment_date\": fake.date_between(start_date='-30y', end_date='-5y').strftime(\"%Y-%m-%d\"),\n",
        "        \"branch_size_sqft\": random.randint(1000, 10000)\n",
        "    },\n",
        "    {\n",
        "        \"branch_id\": \"BR002\",\n",
        "        \"branch_name\": \"Chevron Drive\",\n",
        "        \"address\": \"10, Chevron Drive, Lekki Peninsula II\",\n",
        "        \"operating_hours\": random_operating_hours(),\n",
        "        \"manager_name\": fake.name(),\n",
        "        \"manager_email\": fake.email(),\n",
        "        \"manager_phone\": fake.phone_number(),\n",
        "        \"latitude\": round(random.uniform(6.40, 6.60), 6),\n",
        "        \"longitude\": round(random.uniform(3.20, 3.40), 6),\n",
        "        \"establishment_date\": fake.date_between(start_date='-30y', end_date='-5y').strftime(\"%Y-%m-%d\"),\n",
        "        \"branch_size_sqft\": random.randint(1000, 10000)\n",
        "    },\n",
        "    {\n",
        "        \"branch_id\": \"BR003\",\n",
        "        \"branch_name\": \"Oniru Estate\",\n",
        "        \"address\": \"T.F. Kuboye Road, Off Akiogun Road, Oniru Estate, Maroko, Lekki Phase I\",\n",
        "        \"operating_hours\": random_operating_hours(),\n",
        "        \"manager_name\": fake.name(),\n",
        "        \"manager_email\": fake.email(),\n",
        "        \"manager_phone\": fake.phone_number(),\n",
        "        \"latitude\": round(random.uniform(6.40, 6.60), 6),\n",
        "        \"longitude\": round(random.uniform(3.20, 3.40), 6),\n",
        "        \"establishment_date\": fake.date_between(start_date='-30y', end_date='-5y').strftime(\"%Y-%m-%d\"),\n",
        "        \"branch_size_sqft\": random.randint(1000, 10000)\n",
        "    },\n",
        "    {\n",
        "        \"branch_id\": \"BR004\",\n",
        "        \"branch_name\": \"Ikeja GRA\",\n",
        "        \"address\": \"14, Isaac John Street, Ikeja GRA\",\n",
        "        \"operating_hours\": random_operating_hours(),\n",
        "        \"manager_name\": fake.name(),\n",
        "        \"manager_email\": fake.email(),\n",
        "        \"manager_phone\": fake.phone_number(),\n",
        "        \"latitude\": round(random.uniform(6.40, 6.60), 6),\n",
        "        \"longitude\": round(random.uniform(3.20, 3.40), 6),\n",
        "        \"establishment_date\": fake.date_between(start_date='-30y', end_date='-5y').strftime(\"%Y-%m-%d\"),\n",
        "        \"branch_size_sqft\": random.randint(1000, 10000)\n",
        "    },\n",
        "    {\n",
        "        \"branch_id\": \"BR005\",\n",
        "        \"branch_name\": \"Agungi\",\n",
        "        \"address\": \"5, SPG Road, Beside FIRS Office, Agungi, Lekki Phase II\",\n",
        "        \"operating_hours\": random_operating_hours(),\n",
        "        \"manager_name\": fake.name(),\n",
        "        \"manager_email\": fake.email(),\n",
        "        \"manager_phone\": fake.phone_number(),\n",
        "        \"latitude\": round(random.uniform(6.40, 6.60), 6),\n",
        "        \"longitude\": round(random.uniform(3.20, 3.40), 6),\n",
        "        \"establishment_date\": fake.date_between(start_date='-30y', end_date='-5y').strftime(\"%Y-%m-%d\"),\n",
        "        \"branch_size_sqft\": random.randint(1000, 10000)\n",
        "    },\n",
        "    {\n",
        "        \"branch_id\": \"BR006\",\n",
        "        \"branch_name\": \"Adeboyo Doherty Street\",\n",
        "        \"address\": \"Road 14, Plot 13, Block 54, Adeboyo Doherty Street, Lekki Phase I\",\n",
        "        \"operating_hours\": random_operating_hours(),\n",
        "        \"manager_name\": fake.name(),\n",
        "        \"manager_email\": fake.email(),\n",
        "        \"manager_phone\": fake.phone_number(),\n",
        "        \"latitude\": round(random.uniform(6.40, 6.60), 6),\n",
        "        \"longitude\": round(random.uniform(3.20, 3.40), 6),\n",
        "        \"establishment_date\": fake.date_between(start_date='-30y', end_date='-5y').strftime(\"%Y-%m-%d\"),\n",
        "        \"branch_size_sqft\": random.randint(1000, 10000)\n",
        "    },\n",
        "    {\n",
        "        \"branch_id\": \"BR007\",\n",
        "        \"branch_name\": \"Gaduwa Lokogoma Junction\",\n",
        "        \"address\": \"Plot 551 Abdulsalam Abubakar Way, Gaduwa Lokogoma Junction\",\n",
        "        \"operating_hours\": random_operating_hours(),\n",
        "        \"manager_name\": fake.name(),\n",
        "        \"manager_email\": fake.email(),\n",
        "        \"manager_phone\": fake.phone_number(),\n",
        "        \"latitude\": round(random.uniform(9.00, 9.50), 6),  # Abuja coordinates may differ\n",
        "        \"longitude\": round(random.uniform(7.30, 7.50), 6),\n",
        "        \"establishment_date\": fake.date_between(start_date='-30y', end_date='-5y').strftime(\"%Y-%m-%d\"),\n",
        "        \"branch_size_sqft\": random.randint(1000, 10000)\n",
        "    },\n",
        "    {\n",
        "        \"branch_id\": \"BR008\",\n",
        "        \"branch_name\": \"Wuse Zone 4\",\n",
        "        \"address\": \"9, Cape Town Street, Wuse Zone 4\",\n",
        "        \"operating_hours\": random_operating_hours(),\n",
        "        \"manager_name\": fake.name(),\n",
        "        \"manager_email\": fake.email(),\n",
        "        \"manager_phone\": fake.phone_number(),\n",
        "        \"latitude\": round(random.uniform(9.00, 9.50), 6),\n",
        "        \"longitude\": round(random.uniform(7.30, 7.50), 6),\n",
        "        \"establishment_date\": fake.date_between(start_date='-30y', end_date='-5y').strftime(\"%Y-%m-%d\"),\n",
        "        \"branch_size_sqft\": random.randint(1000, 10000)\n",
        "    }\n",
        "]"
      ],
      "metadata": {
        "id": "4aI7Hydk27l_"
      },
      "execution_count": null,
      "outputs": []
    },
    {
      "cell_type": "markdown",
      "source": [
        "##### **Department Data**"
      ],
      "metadata": {
        "id": "m7860xLT3viY"
      }
    },
    {
      "cell_type": "markdown",
      "source": [
        "We simulate data for the following departments\n",
        "\n",
        "*   Sales\n",
        "*   Marketing\n",
        "* Operations\n",
        "* Finance\n",
        "* Human Resources\n",
        "* Inventory\n",
        "* Customer Service\n",
        "\n",
        "\n",
        "\n"
      ],
      "metadata": {
        "id": "LHjeSNus3745"
      }
    },
    {
      "cell_type": "code",
      "source": [
        "\n",
        "# ----------------------------\n",
        "# 2. Department Data (with enhancements)\n",
        "# ----------------------------\n",
        "departments = [\n",
        "    {\n",
        "        \"dept_id\": \"D001\",\n",
        "        \"dept_name\": \"Sales\",\n",
        "        \"department_head\": fake.name(),\n",
        "        \"budget\": random.randint(100000, 500000),\n",
        "        \"description\": \"Handles all sales activities and customer transactions.\",\n",
        "        \"location_within_store\": \"Front End / Checkout Area\"\n",
        "    },\n",
        "    {\n",
        "        \"dept_id\": \"D002\",\n",
        "        \"dept_name\": \"Marketing\",\n",
        "        \"department_head\": fake.name(),\n",
        "        \"budget\": random.randint(50000, 300000),\n",
        "        \"description\": \"Responsible for promotions and advertising.\",\n",
        "        \"location_within_store\": \"Marketing Office\"\n",
        "    },\n",
        "    {\n",
        "        \"dept_id\": \"D003\",\n",
        "        \"dept_name\": \"Operations\",\n",
        "        \"department_head\": fake.name(),\n",
        "        \"budget\": random.randint(100000, 400000),\n",
        "        \"description\": \"Oversees daily store operations.\",\n",
        "        \"location_within_store\": \"Operations Hub\"\n",
        "    },\n",
        "    {\n",
        "        \"dept_id\": \"D004\",\n",
        "        \"dept_name\": \"Finance\",\n",
        "        \"department_head\": fake.name(),\n",
        "        \"budget\": random.randint(150000, 500000),\n",
        "        \"description\": \"Manages financial records and cash flow.\",\n",
        "        \"location_within_store\": \"Finance Department\"\n",
        "    },\n",
        "    {\n",
        "        \"dept_id\": \"D005\",\n",
        "        \"dept_name\": \"Human Resources\",\n",
        "        \"department_head\": fake.name(),\n",
        "        \"budget\": random.randint(50000, 200000),\n",
        "        \"description\": \"Handles employee relations and recruitment.\",\n",
        "        \"location_within_store\": \"HR Office\"\n",
        "    },\n",
        "    {\n",
        "        \"dept_id\": \"D006\",\n",
        "        \"dept_name\": \"Inventory\",\n",
        "        \"department_head\": fake.name(),\n",
        "        \"budget\": random.randint(80000, 300000),\n",
        "        \"description\": \"Manages stock levels and reordering.\",\n",
        "        \"location_within_store\": \"Stock Room\"\n",
        "    },\n",
        "    {\n",
        "        \"dept_id\": \"D007\",\n",
        "        \"dept_name\": \"Customer Service\",\n",
        "        \"department_head\": fake.name(),\n",
        "        \"budget\": random.randint(50000, 150000),\n",
        "        \"description\": \"Assists customers and handles inquiries.\",\n",
        "        \"location_within_store\": \"Service Desk\"\n",
        "    }\n",
        "]"
      ],
      "metadata": {
        "id": "gzbWAvwc6VX6"
      },
      "execution_count": null,
      "outputs": []
    },
    {
      "cell_type": "markdown",
      "source": [
        "#### **Employee Data**"
      ],
      "metadata": {
        "id": "yn0Wxp-x6mFg"
      }
    },
    {
      "cell_type": "markdown",
      "source": [
        "Employee data is also simulated with a function created to give a dynamic number of employee based on user demand"
      ],
      "metadata": {
        "id": "GQPZuChZ6y3g"
      }
    },
    {
      "cell_type": "code",
      "source": [
        "\n",
        "\n",
        "# ----------------------------\n",
        "# 3. Employee Data (with enhancements)\n",
        "# ----------------------------\n",
        "num_employees = 100\n",
        "employees = []\n",
        "job_titles = [\"Cashier\", \"Store Manager\", \"Stock Associate\", \"Customer Service Rep\", \"Sales Associate\"]\n",
        "\n",
        "for i in range(1, num_employees + 1):\n",
        "    emp_id = f\"EMP{i:03d}\"\n",
        "    name = fake.name()\n",
        "    branch = random.choice(branches)\n",
        "    branch_id = branch[\"branch_id\"]\n",
        "    dept = random.choices(\n",
        "        population=departments,\n",
        "        weights=[30, 10, 10, 10, 10, 20, 10],\n",
        "        k=1\n",
        "    )[0]\n",
        "    dept_id = dept[\"dept_id\"]\n",
        "    hire_date = fake.date_between(start_date='-5y', end_date='today')\n",
        "    email = fake.email()\n",
        "    phone = fake.phone_number()\n",
        "    job_title = random.choice(job_titles)\n",
        "    address = fake.address().replace(\"\\n\", \", \")\n",
        "    birth_date = fake.date_of_birth(minimum_age=21, maximum_age=65)\n",
        "    gender = random.choice([\"Male\", \"Female\", \"Other\"])\n",
        "    salary = round(random.uniform(30000, 150000), 2)\n",
        "    employment_status = random.choice([\"Full-time\", \"Part-time\", \"Contract\"])\n",
        "    shift = random.choice([\"Morning\", \"Afternoon\", \"Night\"])\n",
        "    emergency_contact_name = fake.name()\n",
        "    emergency_contact_phone = fake.phone_number()\n",
        "    performance_rating = round(random.uniform(1, 5), 1)\n",
        "\n",
        "    employees.append({\n",
        "        \"employee_id\": emp_id,\n",
        "        \"name\": name,\n",
        "        \"branch_id\": branch_id,\n",
        "        \"department_id\": dept_id,\n",
        "        \"hire_date\": hire_date.strftime(\"%Y-%m-%d\"),\n",
        "        \"email\": email,\n",
        "        \"phone\": phone,\n",
        "        \"job_title\": job_title,\n",
        "        \"address\": address,\n",
        "        \"birth_date\": birth_date.strftime(\"%Y-%m-%d\"),\n",
        "        \"gender\": gender,\n",
        "        \"salary\": salary,\n",
        "        \"employment_status\": employment_status,\n",
        "        \"shift\": shift,\n",
        "        \"emergency_contact_name\": emergency_contact_name,\n",
        "        \"emergency_contact_phone\": emergency_contact_phone,\n",
        "        \"performance_rating\": performance_rating\n",
        "    })\n",
        "\n"
      ],
      "metadata": {
        "id": "qyWzg_Z07Xek"
      },
      "execution_count": null,
      "outputs": []
    },
    {
      "cell_type": "markdown",
      "source": [
        "#### **Supplier Data**"
      ],
      "metadata": {
        "id": "Hwu-CILX8GxI"
      }
    },
    {
      "cell_type": "code",
      "source": [
        "# ----------------------------\n",
        "# 4. Supplier Data\n",
        "# ----------------------------\n",
        "num_suppliers = 10\n",
        "suppliers = []\n",
        "all_categories = [\"Grocery\", \"Household\", \"Toiletries\", \"Beverages\",\n",
        "                  \"Snacks\", \"Fruits\", \"Vegetables\", \"Meat\", \"Dairy\", \"Bakery\"]\n",
        "\n",
        "for i in range(1, num_suppliers + 1):\n",
        "    sup_id = f\"SUP{i:03d}\"\n",
        "    supplier_categories = random.sample(all_categories, k=random.randint(1, 4))\n",
        "    suppliers.append({\n",
        "        \"supplier_id\": sup_id,\n",
        "        \"supplier_name\": fake.company(),\n",
        "        \"contact_email\": fake.company_email(),\n",
        "        \"contact_phone\": fake.phone_number(),\n",
        "        \"address\": fake.address().replace(\"\\n\", \", \"),\n",
        "        \"product_categories_supplied\": \", \".join(supplier_categories)\n",
        "    })\n"
      ],
      "metadata": {
        "id": "lGw4rvJ18fMJ"
      },
      "execution_count": null,
      "outputs": []
    },
    {
      "cell_type": "markdown",
      "source": [
        "#### **Product Data**"
      ],
      "metadata": {
        "id": "iFqvI40m8t_e"
      }
    },
    {
      "cell_type": "code",
      "source": [
        "\n",
        "# ----------------------------\n",
        "# 5. Product Data (with enhancements)\n",
        "# ----------------------------\n",
        "num_products = 50\n",
        "products = []\n",
        "\n",
        "for i in range(1, num_products + 1):\n",
        "    prod_id = f\"PROD{i:03d}\"\n",
        "    product_name = fake.catch_phrase()\n",
        "    category = random.choice(all_categories)\n",
        "    price = round(random.uniform(50, 5000), 2)\n",
        "    description = fake.text(max_nb_chars=50)\n",
        "    stock_quantity = random.randint(10, 500)\n",
        "    reorder_level = random.randint(5, 50)\n",
        "    supplier = random.choice(suppliers)\n",
        "    supplier_id = supplier[\"supplier_id\"]\n",
        "    # Manufacturing date in the last 5 years\n",
        "    manufacturing_date = fake.date_between(start_date='-5y', end_date='-1y')\n",
        "\n",
        "    # For perishables (fruits, vegetables, meat, dairy, bakery), set an expiry date\n",
        "    if category in [\"Fruits\", \"Vegetables\", \"Meat\", \"Dairy\", \"Bakery\"]:\n",
        "        expiry_date = manufacturing_date + timedelta(days=random.randint(30, 365))\n",
        "        expiry_date_str = expiry_date.strftime(\"%Y-%m-%d\")\n",
        "    else:\n",
        "        expiry_date_str = \"\"\n",
        "\n",
        "    weight = round(random.uniform(0.1, 10.0), 2)  # in kg\n",
        "    discount_percentage = random.choice([0, 5, 10, 15, 20, 25])\n",
        "    barcode = f\"{random.randint(100000000000, 999999999999)}\"\n",
        "    brand = fake.company()\n",
        "    rating = round(random.uniform(1, 5), 1)\n",
        "\n",
        "    products.append({\n",
        "        \"product_id\": prod_id,\n",
        "        \"product_name\": product_name,\n",
        "        \"category\": category,\n",
        "        \"price\": price,\n",
        "        \"description\": description,\n",
        "        \"stock_quantity\": stock_quantity,\n",
        "        \"reorder_level\": reorder_level,\n",
        "        \"supplier_id\": supplier_id,\n",
        "        \"manufacturing_date\": manufacturing_date.strftime(\"%Y-%m-%d\"),\n",
        "        \"expiry_date\": expiry_date_str,\n",
        "        \"weight_kg\": weight,\n",
        "        \"discount_percentage\": discount_percentage,\n",
        "        \"barcode\": barcode,\n",
        "        \"brand\": brand,\n",
        "        \"rating\": rating\n",
        "    })"
      ],
      "metadata": {
        "id": "6Xi-wuvy87Lm"
      },
      "execution_count": null,
      "outputs": []
    },
    {
      "cell_type": "markdown",
      "source": [
        "#### **Customer Data**"
      ],
      "metadata": {
        "id": "cO19xPqK9GA2"
      }
    },
    {
      "cell_type": "code",
      "source": [
        "# ----------------------------\n",
        "# 6. Customer Data\n",
        "# ----------------------------\n",
        "num_customers = 200\n",
        "customers = []\n",
        "\n",
        "for i in range(1, num_customers + 1):\n",
        "    cust_id = f\"CUST{i:04d}\"\n",
        "    name = fake.name()\n",
        "    email = fake.email()\n",
        "    phone = fake.phone_number()\n",
        "    address = fake.address().replace(\"\\n\", \", \")\n",
        "    loyalty_points = random.randint(0, 1000)\n",
        "    birthday = fake.date_of_birth(minimum_age=18, maximum_age=80)\n",
        "    registration_date = fake.date_between(start_date='-5y', end_date='today')\n",
        "\n",
        "    customers.append({\n",
        "        \"customer_id\": cust_id,\n",
        "        \"name\": name,\n",
        "        \"email\": email,\n",
        "        \"phone\": phone,\n",
        "        \"address\": address,\n",
        "        \"loyalty_points\": loyalty_points,\n",
        "        \"birthday\": birthday.strftime(\"%Y-%m-%d\"),\n",
        "        \"registration_date\": registration_date.strftime(\"%Y-%m-%d\")\n",
        "    })"
      ],
      "metadata": {
        "id": "wIpEqbvM9R2q"
      },
      "execution_count": null,
      "outputs": []
    },
    {
      "cell_type": "markdown",
      "source": [
        "#### **Sales Data**"
      ],
      "metadata": {
        "id": "CBeGHjrP9TX9"
      }
    },
    {
      "cell_type": "code",
      "source": [
        "\n",
        "# ----------------------------\n",
        "# 7. Sales Transactions Data (with enhancements)\n",
        "# ----------------------------\n",
        "num_transactions = 10000\n",
        "transactions = []\n",
        "\n",
        "end_date = datetime.now()\n",
        "start_date = end_date - timedelta(days=2 * 365)\n",
        "\n",
        "for i in range(1, num_transactions + 1):\n",
        "    txn_id = f\"TXN{i:05d}\"\n",
        "    random_seconds = random.randint(0, int((end_date - start_date).total_seconds()))\n",
        "    txn_datetime = start_date + timedelta(seconds=random_seconds)\n",
        "\n",
        "    # Choose a branch\n",
        "    branch = random.choice(branches)\n",
        "    branch_id = branch[\"branch_id\"]\n",
        "\n",
        "    # Choose an employee (preferably from Sales dept: D001)\n",
        "    sales_employees = [emp for emp in employees if emp[\"branch_id\"] == branch_id and emp[\"department_id\"] == \"D001\"]\n",
        "    if not sales_employees:\n",
        "        sales_employees = [emp for emp in employees if emp[\"branch_id\"] == branch_id]\n",
        "    employee = random.choice(sales_employees)\n",
        "    employee_id = employee[\"employee_id\"]\n",
        "\n",
        "    # For cashier id, we can assume it's the same as employee_id in this simulation\n",
        "    cashier_id = employee_id\n",
        "\n",
        "    # Choose a product and its pricing details\n",
        "    product = random.choice(products)\n",
        "    product_id = product[\"product_id\"]\n",
        "    unit_price = product[\"price\"]\n",
        "    quantity = random.randint(1, 10)\n",
        "\n",
        "    # Simulate discount applied (use product discount or none)\n",
        "    discount_applied = random.choice([0, product[\"discount_percentage\"]])\n",
        "    discount_value = unit_price * quantity * (discount_applied / 100)\n",
        "\n",
        "    total_without_discount = unit_price * quantity\n",
        "    total_after_discount = total_without_discount - discount_value\n",
        "\n",
        "    # Tax at a rate of 7.5%\n",
        "    tax_amount = round(total_after_discount * 0.075, 2)\n",
        "    final_total_price = round(total_after_discount + tax_amount, 2)\n",
        "\n",
        "    # Loyalty points earned: e.g., 1 point per 10 currency units spent\n",
        "    loyalty_points_earned = int(final_total_price / 10)\n",
        "\n",
        "    # Return/refund flag: 2% chance\n",
        "    return_or_refund = \"Yes\" if random.random() < 0.02 else \"No\"\n",
        "\n",
        "    transaction_type = random.choice([\"In-store\", \"Online\", \"Mobile\"])\n",
        "    customer = random.choice(customers)\n",
        "    customer_id = customer[\"customer_id\"]\n",
        "\n",
        "    payment_method = random.choice([\"Cash\", \"Card\", \"Online Payment\"])\n",
        "    # Simulate payment breakdown (here we randomly decide if payment was split)\n",
        "    if random.random() < 0.1:\n",
        "        # Split payment: divide final_total_price between Cash and Card\n",
        "        cash_amount = round(final_total_price * random.uniform(0.3, 0.7), 2)\n",
        "        card_amount = round(final_total_price - cash_amount, 2)\n",
        "        payment_breakdown = f\"Cash: {cash_amount}, Card: {card_amount}\"\n",
        "    else:\n",
        "        payment_breakdown = f\"{payment_method}: {final_total_price}\"\n",
        "\n",
        "    transactions.append({\n",
        "        \"transaction_id\": txn_id,\n",
        "        \"date\": txn_datetime.strftime(\"%Y-%m-%d %H:%M:%S\"),\n",
        "        \"branch_id\": branch_id,\n",
        "        \"employee_id\": employee_id,\n",
        "        \"cashier_id\": cashier_id,\n",
        "        \"product_id\": product_id,\n",
        "        \"quantity\": quantity,\n",
        "        \"unit_price\": unit_price,\n",
        "        \"discount_applied (%)\": discount_applied,\n",
        "        \"discount_value\": round(discount_value, 2),\n",
        "        \"total_without_discount\": round(total_without_discount, 2),\n",
        "        \"total_after_discount\": round(total_after_discount, 2),\n",
        "        \"tax_amount\": tax_amount,\n",
        "        \"final_total_price\": final_total_price,\n",
        "        \"loyalty_points_earned\": loyalty_points_earned,\n",
        "        \"return_or_refund\": return_or_refund,\n",
        "        \"transaction_type\": transaction_type,\n",
        "        \"customer_id\": customer_id,\n",
        "        \"payment_method\": payment_method,\n",
        "        \"payment_breakdown\": payment_breakdown\n",
        "    })\n",
        "\n",
        "# ----------------------------\n",
        "# Utility Function to Write CSV Files\n",
        "# ----------------------------\n",
        "def write_csv(filename, data, fieldnames):\n",
        "    with open(filename, \"w\", newline=\"\", encoding=\"utf-8\") as csvfile:\n",
        "        writer = csv.DictWriter(csvfile, fieldnames=fieldnames)\n",
        "        writer.writeheader()\n",
        "        for row in data:\n",
        "            writer.writerow(row)\n",
        "\n",
        "# ----------------------------\n",
        "# Write Out Datasets to CSV Files\n",
        "# ----------------------------\n",
        "write_csv(\"branches.csv\", branches, fieldnames=[\n",
        "    \"branch_id\", \"branch_name\", \"address\", \"operating_hours\",\n",
        "    \"manager_name\", \"manager_email\", \"manager_phone\",\n",
        "    \"latitude\", \"longitude\", \"establishment_date\", \"branch_size_sqft\"\n",
        "])\n",
        "\n",
        "write_csv(\"departments.csv\", departments, fieldnames=[\n",
        "    \"dept_id\", \"dept_name\", \"department_head\", \"budget\", \"description\", \"location_within_store\"\n",
        "])\n",
        "\n",
        "write_csv(\"employees.csv\", employees, fieldnames=[\n",
        "    \"employee_id\", \"name\", \"branch_id\", \"department_id\", \"hire_date\", \"email\", \"phone\",\n",
        "    \"job_title\", \"address\", \"birth_date\", \"gender\", \"salary\", \"employment_status\", \"shift\",\n",
        "    \"emergency_contact_name\", \"emergency_contact_phone\", \"performance_rating\"\n",
        "])\n",
        "\n",
        "write_csv(\"suppliers.csv\", suppliers, fieldnames=[\n",
        "    \"supplier_id\", \"supplier_name\", \"contact_email\", \"contact_phone\", \"address\", \"product_categories_supplied\"\n",
        "])\n",
        "\n",
        "write_csv(\"products.csv\", products, fieldnames=[\n",
        "    \"product_id\", \"product_name\", \"category\", \"price\", \"description\", \"stock_quantity\",\n",
        "    \"reorder_level\", \"supplier_id\", \"manufacturing_date\", \"expiry_date\", \"weight_kg\",\n",
        "    \"discount_percentage\", \"barcode\", \"brand\", \"rating\"\n",
        "])\n",
        "\n",
        "write_csv(\"customers.csv\", customers, fieldnames=[\n",
        "    \"customer_id\", \"name\", \"email\", \"phone\", \"address\", \"loyalty_points\", \"birthday\", \"registration_date\"\n",
        "])\n",
        "\n",
        "write_csv(\"transactions.csv\", transactions, fieldnames=[\n",
        "    \"transaction_id\", \"date\", \"branch_id\", \"employee_id\", \"cashier_id\", \"product_id\", \"quantity\",\n",
        "    \"unit_price\", \"discount_applied (%)\", \"discount_value\", \"total_without_discount\",\n",
        "    \"total_after_discount\", \"tax_amount\", \"final_total_price\", \"loyalty_points_earned\",\n",
        "    \"return_or_refund\", \"transaction_type\", \"customer_id\", \"payment_method\", \"payment_breakdown\"\n",
        "])\n",
        "\n",
        "print(\"Data generation complete. CSV files created:\")\n",
        "print(\" - branches.csv\")\n",
        "print(\" - departments.csv\")\n",
        "print(\" - employees.csv\")\n",
        "print(\" - suppliers.csv\")\n",
        "print(\" - products.csv\")\n",
        "print(\" - customers.csv\")\n",
        "print(\" - transactions.csv\")\n",
        "\n",
        "\n"
      ],
      "metadata": {
        "colab": {
          "base_uri": "https://localhost:8080/"
        },
        "id": "eTWVlvBeYyYw",
        "outputId": "d2205edd-801c-4deb-83f1-704c5b7fabd9"
      },
      "execution_count": null,
      "outputs": [
        {
          "output_type": "stream",
          "name": "stdout",
          "text": [
            "Data generation complete. CSV files created:\n",
            " - branches.csv\n",
            " - departments.csv\n",
            " - employees.csv\n",
            " - suppliers.csv\n",
            " - products.csv\n",
            " - customers.csv\n",
            " - transactions.csv\n"
          ]
        }
      ]
    },
    {
      "cell_type": "markdown",
      "source": [
        "#### **Download Zipped CSV**"
      ],
      "metadata": {
        "id": "jiOJuTvc-QKy"
      }
    },
    {
      "cell_type": "code",
      "source": [
        "!zip data.zip *.csv"
      ],
      "metadata": {
        "colab": {
          "base_uri": "https://localhost:8080/"
        },
        "id": "RyyX4rpndP_T",
        "outputId": "74e32395-6dc9-4580-dd8d-da392f527662"
      },
      "execution_count": null,
      "outputs": [
        {
          "output_type": "stream",
          "name": "stdout",
          "text": [
            "  adding: branches.csv (deflated 44%)\n",
            "  adding: customers.csv (deflated 53%)\n",
            "  adding: departments.csv (deflated 39%)\n",
            "  adding: employees.csv (deflated 56%)\n",
            "  adding: products.csv (deflated 48%)\n",
            "  adding: suppliers.csv (deflated 39%)\n",
            "  adding: transactions.csv (deflated 75%)\n"
          ]
        }
      ]
    }
  ]
}